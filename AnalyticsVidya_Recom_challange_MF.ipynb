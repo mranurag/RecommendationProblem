{
 "cells": [
  {
   "cell_type": "code",
   "execution_count": 3,
   "metadata": {
    "collapsed": true
   },
   "outputs": [],
   "source": [
    "import pandas as pd\n",
    "import numpy as np"
   ]
  },
  {
   "cell_type": "code",
   "execution_count": 4,
   "metadata": {
    "collapsed": true
   },
   "outputs": [],
   "source": [
    "train =pd.read_csv(\"D:/Hackethon/recommend/train_submissions.csv\")"
   ]
  },
  {
   "cell_type": "code",
   "execution_count": 5,
   "metadata": {
    "collapsed": false
   },
   "outputs": [
    {
     "data": {
      "text/html": [
       "<div>\n",
       "<table border=\"1\" class=\"dataframe\">\n",
       "  <thead>\n",
       "    <tr style=\"text-align: right;\">\n",
       "      <th></th>\n",
       "      <th>user_id</th>\n",
       "      <th>problem_id</th>\n",
       "      <th>attempts_range</th>\n",
       "    </tr>\n",
       "  </thead>\n",
       "  <tbody>\n",
       "    <tr>\n",
       "      <th>0</th>\n",
       "      <td>user_232</td>\n",
       "      <td>prob_6507</td>\n",
       "      <td>1</td>\n",
       "    </tr>\n",
       "    <tr>\n",
       "      <th>1</th>\n",
       "      <td>user_3568</td>\n",
       "      <td>prob_2994</td>\n",
       "      <td>3</td>\n",
       "    </tr>\n",
       "    <tr>\n",
       "      <th>2</th>\n",
       "      <td>user_1600</td>\n",
       "      <td>prob_5071</td>\n",
       "      <td>1</td>\n",
       "    </tr>\n",
       "  </tbody>\n",
       "</table>\n",
       "</div>"
      ],
      "text/plain": [
       "     user_id problem_id  attempts_range\n",
       "0   user_232  prob_6507               1\n",
       "1  user_3568  prob_2994               3\n",
       "2  user_1600  prob_5071               1"
      ]
     },
     "execution_count": 5,
     "metadata": {},
     "output_type": "execute_result"
    }
   ],
   "source": [
    "# visualizing the dataset\n",
    "train.head(3)"
   ]
  },
  {
   "cell_type": "code",
   "execution_count": 6,
   "metadata": {
    "collapsed": false
   },
   "outputs": [],
   "source": [
    "# we will use matrix factorization to solve this problem, intially we will not consider the additiona;l features such as user and problem details\n",
    "rc_Df = train.pivot(index=\"user_id\",columns=\"problem_id\",values=\"attempts_range\").fillna(0)"
   ]
  },
  {
   "cell_type": "code",
   "execution_count": 7,
   "metadata": {
    "collapsed": false
   },
   "outputs": [
    {
     "data": {
      "text/plain": [
       "2.0"
      ]
     },
     "execution_count": 7,
     "metadata": {},
     "output_type": "execute_result"
    }
   ],
   "source": [
    "# The basic idea is that we will create two more matrix and try to approximate the original user-item-rating matrix using these.\n",
    "# the difference will be that these new matixes will of size UK and IK\n",
    "# where U- number of users, I- number of items and K- number of latent features we wish to find(for general purpose it varies between 20 to 100)"
   ]
  },
  {
   "cell_type": "code",
   "execution_count": 119,
   "metadata": {
    "collapsed": true
   },
   "outputs": [],
   "source": [
    "# function for matrix factorization with gradient descent with regularzation\n",
    "def matrix_factorization(R, P, Q, K, steps=100, alpha=0.0002, beta=0.02):\n",
    "    \n",
    "    Q = Q.T\n",
    "\n",
    "    for step in range(steps):\n",
    "\n",
    "        for i in range(len(R)):\n",
    "\n",
    "            for j in range(len(R[i])):\n",
    "\n",
    "                if R[i][j] > 0:\n",
    "\n",
    "                    eij = R[i][j] - np.dot(P[i,:],Q[:,j])\n",
    "\n",
    "                    for k in range(K):\n",
    "\n",
    "                        P[i][k] = P[i][k] + alpha * (2 * eij * Q[k][j] - beta * P[i][k])\n",
    "\n",
    "                        Q[k][j] = Q[k][j] + alpha * (2 * eij * P[i][k] - beta * Q[k][j])\n",
    "\n",
    "        eR = np.dot(P,Q)\n",
    "\n",
    "        e = 0\n",
    "\n",
    "        for i in range(len(R)):\n",
    "\n",
    "            for j in range(len(R[i])):\n",
    "\n",
    "                if R[i][j] > 0:\n",
    "\n",
    "                    e = e + pow(R[i][j] - np.dot(P[i,:],Q[:,j]), 2)\n",
    "\n",
    "                    for k in range(K):\n",
    "\n",
    "                        e = e + (beta/2) * (pow(P[i][k],2) + pow(Q[k][j],2))\n",
    "\n",
    "        if e < 0.001:\n",
    "\n",
    "            break\n",
    "\n",
    "    return P, Q.T\n"
   ]
  },
  {
   "cell_type": "code",
   "execution_count": 120,
   "metadata": {
    "collapsed": false
   },
   "outputs": [],
   "source": [
    "R = np.array(rc_Df)\n",
    "N = len(R)\n",
    "\n",
    "M = len(R[0])\n",
    "\n",
    "K = 20\n",
    "P = np.random.rand(N,K)\n",
    "\n",
    "Q = np.random.rand(M,K)\n",
    "\n",
    " \n",
    "\n",
    "nP, nQ = matrix_factorization(R, P, Q, K)\n",
    "\n",
    "nR = np.dot(nP, nQ.T)\n"
   ]
  },
  {
   "cell_type": "code",
   "execution_count": 121,
   "metadata": {
    "collapsed": true
   },
   "outputs": [],
   "source": [
    "newdf1 = pd.DataFrame(nR,columns=rc_Df.columns)"
   ]
  },
  {
   "cell_type": "code",
   "execution_count": 122,
   "metadata": {
    "collapsed": false
   },
   "outputs": [],
   "source": [
    "import math\n",
    "#converting the float to smallest possible integer\n",
    "newdf1 =newdf1.applymap(lambda x:math.floor(x))\n"
   ]
  },
  {
   "cell_type": "code",
   "execution_count": 134,
   "metadata": {
    "collapsed": true
   },
   "outputs": [],
   "source": [
    "#Since minimum value is 1 and max is 6, converting these values to the nearest value\n",
    "newdf1 =newdf1.applymap(lambda x:1 if x<1 else x)\n",
    "newdf1 =newdf1.applymap(lambda x:6 if x>6 else x)\n"
   ]
  },
  {
   "cell_type": "code",
   "execution_count": 135,
   "metadata": {
    "collapsed": false
   },
   "outputs": [],
   "source": [
    "updatedDF = pd.concat([userdf,newdf1],axis=1)"
   ]
  },
  {
   "cell_type": "code",
   "execution_count": 136,
   "metadata": {
    "collapsed": false
   },
   "outputs": [
    {
     "data": {
      "text/html": [
       "<div>\n",
       "<table border=\"1\" class=\"dataframe\">\n",
       "  <thead>\n",
       "    <tr style=\"text-align: right;\">\n",
       "      <th></th>\n",
       "      <th>userID</th>\n",
       "      <th>prob_1</th>\n",
       "      <th>prob_10</th>\n",
       "      <th>prob_100</th>\n",
       "      <th>prob_1000</th>\n",
       "      <th>prob_1001</th>\n",
       "      <th>prob_1002</th>\n",
       "      <th>prob_1003</th>\n",
       "      <th>prob_1004</th>\n",
       "      <th>prob_1005</th>\n",
       "      <th>...</th>\n",
       "      <th>prob_990</th>\n",
       "      <th>prob_991</th>\n",
       "      <th>prob_992</th>\n",
       "      <th>prob_993</th>\n",
       "      <th>prob_994</th>\n",
       "      <th>prob_995</th>\n",
       "      <th>prob_996</th>\n",
       "      <th>prob_997</th>\n",
       "      <th>prob_998</th>\n",
       "      <th>prob_999</th>\n",
       "    </tr>\n",
       "  </thead>\n",
       "  <tbody>\n",
       "    <tr>\n",
       "      <th>0</th>\n",
       "      <td>user_1</td>\n",
       "      <td>2</td>\n",
       "      <td>2</td>\n",
       "      <td>2</td>\n",
       "      <td>1</td>\n",
       "      <td>1</td>\n",
       "      <td>1</td>\n",
       "      <td>2</td>\n",
       "      <td>2</td>\n",
       "      <td>1</td>\n",
       "      <td>...</td>\n",
       "      <td>2</td>\n",
       "      <td>1</td>\n",
       "      <td>2</td>\n",
       "      <td>1</td>\n",
       "      <td>2</td>\n",
       "      <td>2</td>\n",
       "      <td>1</td>\n",
       "      <td>1</td>\n",
       "      <td>2</td>\n",
       "      <td>1</td>\n",
       "    </tr>\n",
       "  </tbody>\n",
       "</table>\n",
       "<p>1 rows × 5777 columns</p>\n",
       "</div>"
      ],
      "text/plain": [
       "   userID  prob_1  prob_10  prob_100  prob_1000  prob_1001  prob_1002  \\\n",
       "0  user_1       2        2         2          1          1          1   \n",
       "\n",
       "   prob_1003  prob_1004  prob_1005    ...     prob_990  prob_991  prob_992  \\\n",
       "0          2          2          1    ...            2         1         2   \n",
       "\n",
       "   prob_993  prob_994  prob_995  prob_996  prob_997  prob_998  prob_999  \n",
       "0         1         2         2         1         1         2         1  \n",
       "\n",
       "[1 rows x 5777 columns]"
      ]
     },
     "execution_count": 136,
     "metadata": {},
     "output_type": "execute_result"
    }
   ],
   "source": [
    "updatedDF.head(1)"
   ]
  },
  {
   "cell_type": "code",
   "execution_count": 143,
   "metadata": {
    "collapsed": true
   },
   "outputs": [],
   "source": [
    "test =pd.read_csv(\"D:/Hackethon/recommend/test.csv\")"
   ]
  },
  {
   "cell_type": "code",
   "execution_count": 138,
   "metadata": {
    "collapsed": true
   },
   "outputs": [],
   "source": [
    "def getAttemptsRating(tarDF,df,var1,var2):\n",
    "    rateList =[]\n",
    "    for i,r in df.iterrows():\n",
    "        try:\n",
    "            user_id= r[\"user_id\"]\n",
    "            Rating= r[\"problem_id\"]\n",
    "            rateval = tarDF.loc[tarDF.userID == user_id,Rating].values[0]\n",
    "            rateList.append(rateval)\n",
    "        except:\n",
    "            rateList.append(6)\n",
    "    return rateList\n",
    "        \n",
    "    "
   ]
  },
  {
   "cell_type": "code",
   "execution_count": 139,
   "metadata": {
    "collapsed": false
   },
   "outputs": [],
   "source": [
    "rates = getAttemptsRating(updatedDF,test,\"user_id\",\"problem_id\")"
   ]
  },
  {
   "cell_type": "code",
   "execution_count": 144,
   "metadata": {
    "collapsed": false
   },
   "outputs": [],
   "source": [
    "test[\"attempts_range\"]=rates"
   ]
  },
  {
   "cell_type": "code",
   "execution_count": 145,
   "metadata": {
    "collapsed": false
   },
   "outputs": [],
   "source": [
    "test.drop([\"user_id\",\"problem_id\"],axis=1,inplace=True)"
   ]
  },
  {
   "cell_type": "code",
   "execution_count": 147,
   "metadata": {
    "collapsed": false
   },
   "outputs": [],
   "source": [
    "test.to_csv(\"D:/Hackethon/recommend/submission_new_100_1.csv\")"
   ]
  },
  {
   "cell_type": "code",
   "execution_count": null,
   "metadata": {
    "collapsed": true
   },
   "outputs": [],
   "source": []
  }
 ],
 "metadata": {
  "kernelspec": {
   "display_name": "Python [default]",
   "language": "python",
   "name": "python3"
  },
  "language_info": {
   "codemirror_mode": {
    "name": "ipython",
    "version": 3
   },
   "file_extension": ".py",
   "mimetype": "text/x-python",
   "name": "python",
   "nbconvert_exporter": "python",
   "pygments_lexer": "ipython3",
   "version": "3.5.2"
  }
 },
 "nbformat": 4,
 "nbformat_minor": 1
}
